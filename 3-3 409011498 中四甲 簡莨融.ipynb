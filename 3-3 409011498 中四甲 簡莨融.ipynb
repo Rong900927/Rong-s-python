{
  "nbformat": 4,
  "nbformat_minor": 0,
  "metadata": {
    "colab": {
      "provenance": [],
      "authorship_tag": "ABX9TyM/UqtNg8zciZdHAun+h5Kw",
      "include_colab_link": true
    },
    "kernelspec": {
      "name": "python3",
      "display_name": "Python 3"
    },
    "language_info": {
      "name": "python"
    }
  },
  "cells": [
    {
      "cell_type": "markdown",
      "metadata": {
        "id": "view-in-github",
        "colab_type": "text"
      },
      "source": [
        "<a href=\"https://colab.research.google.com/github/Rong900927/Rong-s-python/blob/main/3-3%20409011498%20%E4%B8%AD%E5%9B%9B%E7%94%B2%20%E7%B0%A1%E8%8E%A8%E8%9E%8D.ipynb\" target=\"_parent\"><img src=\"https://colab.research.google.com/assets/colab-badge.svg\" alt=\"Open In Colab\"/></a>"
      ]
    },
    {
      "cell_type": "markdown",
      "source": [
        "3.某班學生人數不詳，欲輸入每一個學生成績，當輸入 -1 時表示結束輸入，然後顯示出全班人數、及格人數、不及格人數、以及全班平均值。"
      ],
      "metadata": {
        "id": "5CpnogBHW8Rv"
      }
    },
    {
      "cell_type": "code",
      "source": [
        "count = 0\n",
        "total = 0\n",
        "passc = 0\n",
        "failc = 0\n",
        "while True:\n",
        "  score = int(input(\"請輸入成績:(輸入-1結束):\"))\n",
        "  if score == -1:\n",
        "    break\n",
        "  total += score\n",
        "  count += 1\n",
        "  if score >= 60:\n",
        "    passc += 1\n",
        "  else:\n",
        "    failc += 16\n",
        "  avr = total / count\n",
        "print(f\"全班人數:{count}\")\n",
        "print(f\"及格人數:{passc}\")\n",
        "print(f\"不及格人數:{failc}\")\n",
        "print(f\"全班平均值:{avr}\")"
      ],
      "metadata": {
        "colab": {
          "base_uri": "https://localhost:8080/"
        },
        "id": "2YSwRO7YW_ce",
        "outputId": "551fec6a-8280-4350-ec82-9113acd7ecce"
      },
      "execution_count": 1,
      "outputs": [
        {
          "output_type": "stream",
          "name": "stdout",
          "text": [
            "請輸入成績:(輸入-1結束):100\n",
            "請輸入成績:(輸入-1結束):90\n",
            "請輸入成績:(輸入-1結束):88\n",
            "請輸入成績:(輸入-1結束):56\n",
            "請輸入成績:(輸入-1結束):78\n",
            "請輸入成績:(輸入-1結束):90\n",
            "請輸入成績:(輸入-1結束):97\n",
            "請輸入成績:(輸入-1結束):60\n",
            "請輸入成績:(輸入-1結束):40\n",
            "請輸入成績:(輸入-1結束):-1\n",
            "全班人數:9\n",
            "及格人數:7\n",
            "不及格人數:32\n",
            "全班平均值:77.66666666666667\n"
          ]
        }
      ]
    }
  ]
}