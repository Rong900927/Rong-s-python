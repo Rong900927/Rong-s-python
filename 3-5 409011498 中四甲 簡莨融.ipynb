{
  "nbformat": 4,
  "nbformat_minor": 0,
  "metadata": {
    "colab": {
      "provenance": [],
      "authorship_tag": "ABX9TyMZpsDSwne4XpP9qBLa0kPw",
      "include_colab_link": true
    },
    "kernelspec": {
      "name": "python3",
      "display_name": "Python 3"
    },
    "language_info": {
      "name": "python"
    }
  },
  "cells": [
    {
      "cell_type": "markdown",
      "metadata": {
        "id": "view-in-github",
        "colab_type": "text"
      },
      "source": [
        "<a href=\"https://colab.research.google.com/github/Rong900927/Rong-s-python/blob/main/3-5%20409011498%20%E4%B8%AD%E5%9B%9B%E7%94%B2%20%E7%B0%A1%E8%8E%A8%E8%9E%8D.ipynb\" target=\"_parent\"><img src=\"https://colab.research.google.com/assets/colab-badge.svg\" alt=\"Open In Colab\"/></a>"
      ]
    },
    {
      "cell_type": "markdown",
      "source": [
        "5.印星星(二)"
      ],
      "metadata": {
        "id": "-rpFBJ4GZpN1"
      }
    },
    {
      "cell_type": "code",
      "source": [
        "x = 4\n",
        "while x > 0:\n",
        "  print('*'*x)\n",
        "  x=x-1"
      ],
      "metadata": {
        "colab": {
          "base_uri": "https://localhost:8080/"
        },
        "id": "ZzByRTdlZtWN",
        "outputId": "faa6b837-63ec-4116-c2c8-ad03a408e9f1"
      },
      "execution_count": 1,
      "outputs": [
        {
          "output_type": "stream",
          "name": "stdout",
          "text": [
            "****\n",
            "***\n",
            "**\n",
            "*\n"
          ]
        }
      ]
    }
  ]
}