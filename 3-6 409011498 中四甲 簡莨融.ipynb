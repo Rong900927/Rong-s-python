{
  "nbformat": 4,
  "nbformat_minor": 0,
  "metadata": {
    "colab": {
      "provenance": [],
      "authorship_tag": "ABX9TyMGS4zDZrt1dNeTfDuOhKws",
      "include_colab_link": true
    },
    "kernelspec": {
      "name": "python3",
      "display_name": "Python 3"
    },
    "language_info": {
      "name": "python"
    }
  },
  "cells": [
    {
      "cell_type": "markdown",
      "metadata": {
        "id": "view-in-github",
        "colab_type": "text"
      },
      "source": [
        "<a href=\"https://colab.research.google.com/github/Rong900927/Rong-s-python/blob/main/3-6%20409011498%20%E4%B8%AD%E5%9B%9B%E7%94%B2%20%E7%B0%A1%E8%8E%A8%E8%9E%8D.ipynb\" target=\"_parent\"><img src=\"https://colab.research.google.com/assets/colab-badge.svg\" alt=\"Open In Colab\"/></a>"
      ]
    },
    {
      "cell_type": "markdown",
      "source": [
        "6.印星星(三)"
      ],
      "metadata": {
        "id": "aVPmbsyoaE-W"
      }
    },
    {
      "cell_type": "code",
      "source": [
        "x = 1\n",
        "while x<=9:\n",
        "  if x<=5:\n",
        "    print(' '*(5-x)+'*'*x)\n",
        "  else:\n",
        "    print(' '*(x-5)+'*'*(10-x))\n",
        "  x=x+2"
      ],
      "metadata": {
        "colab": {
          "base_uri": "https://localhost:8080/"
        },
        "id": "G_AvdgdKaIu1",
        "outputId": "c41f3741-f609-4ce5-a8d7-b55d1d5b967f"
      },
      "execution_count": 2,
      "outputs": [
        {
          "output_type": "stream",
          "name": "stdout",
          "text": [
            "    *\n",
            "  ***\n",
            "*****\n",
            "  ***\n",
            "    *\n"
          ]
        }
      ]
    }
  ]
}