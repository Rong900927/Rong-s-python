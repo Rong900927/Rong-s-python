{
  "nbformat": 4,
  "nbformat_minor": 0,
  "metadata": {
    "colab": {
      "provenance": [],
      "authorship_tag": "ABX9TyOedh7RtiH+3ceAuVsu/15c",
      "include_colab_link": true
    },
    "kernelspec": {
      "name": "python3",
      "display_name": "Python 3"
    },
    "language_info": {
      "name": "python"
    }
  },
  "cells": [
    {
      "cell_type": "markdown",
      "metadata": {
        "id": "view-in-github",
        "colab_type": "text"
      },
      "source": [
        "<a href=\"https://colab.research.google.com/github/Rong900927/Rong-s-python/blob/main/4-11.2%20409011498%20%E4%B8%AD%E5%9B%9B%E7%94%B2%20%E7%B0%A1%E8%8E%A8%E8%9E%8D.ipynb\" target=\"_parent\"><img src=\"https://colab.research.google.com/assets/colab-badge.svg\" alt=\"Open In Colab\"/></a>"
      ]
    },
    {
      "cell_type": "markdown",
      "source": [
        "3.請寫一個 is_odd(x) 函式，檢查輸入的參數 x 是不是奇數。如果 x 是奇數則回傳 Ture；若 x 不是奇數則回傳 False。"
      ],
      "metadata": {
        "id": "Sb42ugWZdAbF"
      }
    },
    {
      "cell_type": "code",
      "source": [
        "def is_odd(x):\n",
        "  if x%2==0:\n",
        "    return False\n",
        "  else:\n",
        "    return True\n",
        "input_x=int(input(\"請輸入x:\"))\n",
        "print(is_odd(input_x))"
      ],
      "metadata": {
        "colab": {
          "base_uri": "https://localhost:8080/"
        },
        "id": "lCPVnjyidDZc",
        "outputId": "ea7a6bef-68aa-4e2f-a23a-da10730c4792"
      },
      "execution_count": 2,
      "outputs": [
        {
          "output_type": "stream",
          "name": "stdout",
          "text": [
            "請輸入x:3\n",
            "True\n"
          ]
        }
      ]
    }
  ]
}