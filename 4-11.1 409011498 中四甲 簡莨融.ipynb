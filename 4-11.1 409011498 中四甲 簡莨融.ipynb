{
  "nbformat": 4,
  "nbformat_minor": 0,
  "metadata": {
    "colab": {
      "provenance": [],
      "authorship_tag": "ABX9TyMJoiCougClOUajjdgbYE/A",
      "include_colab_link": true
    },
    "kernelspec": {
      "name": "python3",
      "display_name": "Python 3"
    },
    "language_info": {
      "name": "python"
    }
  },
  "cells": [
    {
      "cell_type": "markdown",
      "metadata": {
        "id": "view-in-github",
        "colab_type": "text"
      },
      "source": [
        "<a href=\"https://colab.research.google.com/github/Rong900927/Rong-s-python/blob/main/4-11.1%20409011498%20%E4%B8%AD%E5%9B%9B%E7%94%B2%20%E7%B0%A1%E8%8E%A8%E8%9E%8D.ipynb\" target=\"_parent\"><img src=\"https://colab.research.google.com/assets/colab-badge.svg\" alt=\"Open In Colab\"/></a>"
      ]
    },
    {
      "cell_type": "markdown",
      "source": [
        "2.請撰寫一個程式，呼叫一個自訂的函式 f(x, n)，計算一個整數 x 的 n 次方"
      ],
      "metadata": {
        "id": "nhnN2LP6cNS8"
      }
    },
    {
      "cell_type": "code",
      "source": [
        "def f(x,n):\n",
        "  x=x**n\n",
        "  return x\n",
        "input_x=int(input(\"請輸入x:\"))\n",
        "input_n=int(input(\"請輸入n:\"))\n",
        "print(f(input_x,input_n))"
      ],
      "metadata": {
        "colab": {
          "base_uri": "https://localhost:8080/"
        },
        "id": "kFiFGaSfcQC8",
        "outputId": "f9d8e05f-005e-43e8-d738-9e1096055b37"
      },
      "execution_count": 1,
      "outputs": [
        {
          "output_type": "stream",
          "name": "stdout",
          "text": [
            "請輸入x:2\n",
            "請輸入n:64\n",
            "18446744073709551616\n"
          ]
        }
      ]
    }
  ]
}